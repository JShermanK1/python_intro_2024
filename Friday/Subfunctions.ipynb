{
 "cells": [
  {
   "cell_type": "markdown",
   "metadata": {},
   "source": [
    "# Learning python - Day 5\n",
    "\n",
    "## Outline:\n",
    "\n",
    "- Subfunctions\n",
    "- Conda\n",
    "- Pip"
   ]
  }
 ],
 "metadata": {
  "language_info": {
   "name": "python"
  }
 },
 "nbformat": 4,
 "nbformat_minor": 2
}
