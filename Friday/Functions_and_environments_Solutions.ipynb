{
 "cells": [
  {
   "cell_type": "code",
   "execution_count": null,
   "metadata": {},
   "outputs": [],
   "source": []
  },
  {
   "cell_type": "markdown",
   "metadata": {},
   "source": [
    "#### Exercise 1 : Write a function to multiply two numbers"
   ]
  },
  {
   "cell_type": "code",
   "execution_count": 1,
   "metadata": {},
   "outputs": [
    {
     "name": "stdout",
     "output_type": "stream",
     "text": [
      "Sum of 3 * 19 = 57\n"
     ]
    }
   ],
   "source": [
    "# Can use hinting as well, see this : https://docs.python.org/3/library/typing.html\n",
    "def multiply(x,y):\n",
    "    \"\"\"Multiply two numbers \n",
    "\n",
    "    Args :\n",
    "        x : (int, float)\n",
    "        y : (int, float)\n",
    "\n",
    "    Returns :\n",
    "        val : (int, float)\n",
    "\n",
    "    Raises :\n",
    "    \"\"\"\n",
    "    val = x * y\n",
    "    return val\n",
    "\n",
    "a = 3\n",
    "b = 19\n",
    "value = multiply(a,b)\n",
    "print(\"Sum of {} * {} = {}\".format(a,b,value))"
   ]
  },
  {
   "cell_type": "markdown",
   "metadata": {},
   "source": [
    "#### Exercise 2 : Fix the bug in mybrokenfunc.py so the code below works\n"
   ]
  },
  {
   "cell_type": "code",
   "execution_count": null,
   "metadata": {},
   "outputs": [],
   "source": [
    "## Fixed version of mybrokenfunc.py, can also see myfixedfunc.py\n",
    "def add(x,y):\n",
    "    \"\"\"Add two numbers\n",
    "\n",
    "    Args :\n",
    "        x : (int, float)\n",
    "        y : (int, float)\n",
    "\n",
    "    Returns :\n",
    "        val : (int, float)\n",
    "\n",
    "    Raises :\n",
    "    \"\"\"\n",
    "    val = x + y\n",
    "    return val\n",
    "\n",
    "def main():\n",
    "    \"\"\"\n",
    "\n",
    "    \"\"\"\n",
    "    result = 10\n",
    "    print(\"{}\".format(add(10,90)))\n",
    "\n",
    "\n",
    "if __name__ == \"__main__\":\n",
    "    main()"
   ]
  },
  {
   "cell_type": "markdown",
   "metadata": {},
   "source": [
    "#### Exercise 3 : Switch back to your, Python 3.6.8 kernel.  Import ipykernel, where is it installed?"
   ]
  },
  {
   "cell_type": "code",
   "execution_count": null,
   "metadata": {},
   "outputs": [],
   "source": [
    "import ipykernel\n",
    "ipykernel.__file__  # it's ~/.local"
   ]
  }
 ],
 "metadata": {
  "kernelspec": {
   "display_name": "Python 3",
   "language": "python",
   "name": "python3"
  },
  "language_info": {
   "codemirror_mode": {
    "name": "ipython",
    "version": 3
   },
   "file_extension": ".py",
   "mimetype": "text/x-python",
   "name": "python",
   "nbconvert_exporter": "python",
   "pygments_lexer": "ipython3",
   "version": "3.6.8"
  }
 },
 "nbformat": 4,
 "nbformat_minor": 2
}
