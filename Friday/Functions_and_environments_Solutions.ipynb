{
 "cells": [
  {
   "cell_type": "code",
   "execution_count": null,
   "metadata": {},
   "outputs": [],
   "source": []
  },
  {
   "cell_type": "markdown",
   "metadata": {},
   "source": [
    "#### Exercise 1 : Write a function to multiply two numbers"
   ]
  },
  {
   "cell_type": "code",
   "execution_count": 1,
   "metadata": {},
   "outputs": [
    {
     "name": "stdout",
     "output_type": "stream",
     "text": [
      "Sum of 3 * 19 = 57\n"
     ]
    }
   ],
   "source": [
    "# Can use hinting as well, see this : https://docs.python.org/3/library/typing.html\n",
    "def multiply(x,y):\n",
    "    \"\"\"Multiply two numbers \n",
    "\n",
    "    Args :\n",
    "        x : (int, float)\n",
    "        y : (int, float)\n",
    "\n",
    "    Returns :\n",
    "        val : (int, float)\n",
    "\n",
    "    Raises :\n",
    "    \"\"\"\n",
    "    val = x * y\n",
    "    return val\n",
    "\n",
    "a = 3\n",
    "b = 19\n",
    "value = multiply(a,b)\n",
    "print(\"Sum of {} * {} = {}\".format(a,b,value))"
   ]
  },
  {
   "cell_type": "markdown",
   "metadata": {},
   "source": [
    "#### Exercise 2 : Fix the bug in mybrokenfunc.py so the code below works\n"
   ]
  },
  {
   "cell_type": "code",
   "execution_count": null,
   "metadata": {},
   "outputs": [],
   "source": [
    "## Fixed version of mybrokenfunc.py, can also see myfixedfunc.py\n",
    "def add(x,y):\n",
    "    \"\"\"Add two numbers\n",
    "\n",
    "    Args :\n",
    "        x : (int, float)\n",
    "        y : (int, float)\n",
    "\n",
    "    Returns :\n",
    "        val : (int, float)\n",
    "\n",
    "    Raises :\n",
    "    \"\"\"\n",
    "    val = x + y\n",
    "    return val\n",
    "\n",
    "def main():\n",
    "    \"\"\"\n",
    "\n",
    "    \"\"\"\n",
    "    result = 10\n",
    "    print(\"{}\".format(add(10,90)))\n",
    "\n",
    "\n",
    "if __name__ == \"__main__\":\n",
    "    main()"
   ]
  },
  {
   "cell_type": "markdown",
   "metadata": {},
   "source": [
    "#### Exercise 3 : Switch back to your, Python 3.6.8 kernel.  Import ipykernel, where is it installed? Is this good or bad?\n",
    "- It isn't great, because it is in ~/.local.  \n",
    "- If you load a Python environment via a module that happens to be Python/3.6, it will find your libs installed via `pip` there.  \n",
    "- This can lead to conflicts in python library versions between the system module (i.e. `ml load X`) and your ~/.local/ packages."
   ]
  },
  {
   "cell_type": "code",
   "execution_count": 4,
   "metadata": {},
   "outputs": [
    {
     "data": {
      "text/plain": [
       "['/gpfs0/home1/gdhpcgroup/aps003/Documents/Presentations/python_intro_2024/Friday',\n",
       " '/usr/lib64/python36.zip',\n",
       " '/usr/lib64/python3.6',\n",
       " '/usr/lib64/python3.6/lib-dynload',\n",
       " '',\n",
       " '/home/gdhpcgroup/aps003/.local/lib/python3.6/site-packages',\n",
       " '/usr/lib64/python3.6/site-packages',\n",
       " '/usr/lib/python3.6/site-packages',\n",
       " '/home/gdhpcgroup/aps003/.local/lib/python3.6/site-packages/IPython/extensions',\n",
       " '/gpfs0/home1/gdhpcgroup/aps003/.ipython']"
      ]
     },
     "execution_count": 4,
     "metadata": {},
     "output_type": "execute_result"
    }
   ],
   "source": [
    "import ipykernel\n",
    "ipykernel.__file__  # it's ~/.local/lib/python3.6/site-packages/ipykernel/__init__.py, \n",
    "import sys\n",
    "sys.path"
   ]
  }
 ],
 "metadata": {
  "kernelspec": {
   "display_name": "Python 3",
   "language": "python",
   "name": "python3"
  },
  "language_info": {
   "codemirror_mode": {
    "name": "ipython",
    "version": 3
   },
   "file_extension": ".py",
   "mimetype": "text/x-python",
   "name": "python",
   "nbconvert_exporter": "python",
   "pygments_lexer": "ipython3",
   "version": "3.6.8"
  }
 },
 "nbformat": 4,
 "nbformat_minor": 2
}
