{
 "cells": [
  {
   "cell_type": "markdown",
   "metadata": {},
   "source": [
    "# Learning python - Day 1\n",
    "\n",
    "## Outline:\n",
    "\n",
    "- VScode setup confirmation\n",
    "- Connecting to the Franklin cluster\n",
    "- Get class materials\n",
    "- Variables\n",
    "- Data types\n",
    "- Activity"
   ]
  },
  {
   "cell_type": "markdown",
   "metadata": {},
   "source": [
    "## What is a variable?\n",
    "\n",
    "A variable is a name that refers to a value. The value can be a number, a string, a list, or any other type of data.\n",
    "The variable can be used to refer to the value later in the program.\n",
    "\n",
    "## Variable assignment\n",
    "\n",
    "In python, we assign a value to a variable using the `=` operator. The variable name goes on the left, and the value goes on the right."
   ]
  },
  {
   "cell_type": "code",
   "execution_count": 1,
   "metadata": {},
   "outputs": [
    {
     "data": {
      "text/plain": [
       "'Matt'"
      ]
     },
     "execution_count": 1,
     "metadata": {},
     "output_type": "execute_result"
    }
   ],
   "source": [
    "my_name = 'Matt'\n",
    "\n",
    "my_name"
   ]
  },
  {
   "cell_type": "markdown",
   "metadata": {},
   "source": [
    "## Basic Variable Types in Python\n",
    "\n",
    "Not all variables are the same. The type of a variable is very important in python.\n",
    "\n",
    "### - Key point -\n",
    "One important distiction - if we compare a variable to a bucket filled with water:\n",
    "    - The \"variable type\" refers to the type of container\n",
    "    - The \"data type\" refers to the type of stuff in the container\n",
    "\n",
    "Variables come in lots of different forms or classes\n",
    "\n",
    "The data inside a variable also has a type\n",
    "\n",
    "Python has several basic types of variables. Here are the most common ones:\n",
    "\n",
    "### Numeric Types\n",
    "\n",
    "#### Integer\n",
    "An integer is a whole number, positive or negative. For example:"
   ]
  },
  {
   "cell_type": "code",
   "execution_count": null,
   "metadata": {},
   "outputs": [],
   "source": [
    "x = 10"
   ]
  },
  {
   "cell_type": "markdown",
   "metadata": {},
   "source": [
    "### Float\n",
    "A float is a number that has a decimal point. For example:"
   ]
  },
  {
   "cell_type": "code",
   "execution_count": null,
   "metadata": {},
   "outputs": [],
   "source": [
    "y = 20.5"
   ]
  },
  {
   "cell_type": "markdown",
   "metadata": {},
   "source": [
    "# Float math vs int math\n",
    "\n"
   ]
  },
  {
   "cell_type": "markdown",
   "metadata": {},
   "source": [
    "\n",
    "\n",
    "## Sequence Types\n",
    "\n",
    "### String\n",
    "A string is a sequence of characters. For example:\n",
    "\n"
   ]
  },
  {
   "cell_type": "code",
   "execution_count": null,
   "metadata": {},
   "outputs": [],
   "source": [
    "s = \"Hello, World!\""
   ]
  },
  {
   "cell_type": "markdown",
   "metadata": {},
   "source": [
    "\n",
    "\n",
    "### List\n",
    "A list is a collection of items. For example:\n",
    "\n"
   ]
  },
  {
   "cell_type": "code",
   "execution_count": null,
   "metadata": {},
   "outputs": [],
   "source": [
    "l = [1, 2, 3, 4, 5]"
   ]
  },
  {
   "cell_type": "markdown",
   "metadata": {},
   "source": [
    "\n",
    "\n",
    "### Tuple\n",
    "A tuple is a collection of items that is ordered but unchangeable. For example:\n",
    "\n"
   ]
  },
  {
   "cell_type": "code",
   "execution_count": null,
   "metadata": {},
   "outputs": [],
   "source": [
    "t = (1, 2, 3, 4, 5)"
   ]
  },
  {
   "cell_type": "markdown",
   "metadata": {},
   "source": [
    "\n",
    "\n",
    "## Mapping Type\n",
    "\n",
    "### Dictionary\n",
    "A dictionary is a collection of key-value pairs. For example:\n",
    "\n"
   ]
  },
  {
   "cell_type": "code",
   "execution_count": null,
   "metadata": {},
   "outputs": [],
   "source": [
    "d = {\"name\": \"John\", \"age\": 30}"
   ]
  },
  {
   "cell_type": "markdown",
   "metadata": {},
   "source": [
    "\n",
    "\n",
    "## Set Types\n",
    "\n",
    "### Set\n",
    "A set is a collection of unique items. For example:\n",
    "\n"
   ]
  },
  {
   "cell_type": "code",
   "execution_count": null,
   "metadata": {},
   "outputs": [],
   "source": [
    "s = {1, 2, 3}"
   ]
  },
  {
   "cell_type": "markdown",
   "metadata": {},
   "source": [
    "\n",
    "\n",
    "## Boolean Type\n",
    "\n",
    "### Boolean\n",
    "A boolean represents one of two values: True or False. For example:\n",
    "\n"
   ]
  },
  {
   "cell_type": "code",
   "execution_count": null,
   "metadata": {},
   "outputs": [],
   "source": [
    "b = True"
   ]
  },
  {
   "cell_type": "markdown",
   "metadata": {},
   "source": [
    "## How do we run Python code?\n",
    "\n",
    "Three main ways to run python code:\n",
    "\n",
    "- In a python interpreter by typing commands directly after starting python with the `python` command on the command line\n",
    "- In a python script by typing commands into a text file and then running the script with the `python` command on the command line\n",
    "- In a Jupyter notebook by typing commands into a cell and then running the cell"
   ]
  },
  {
   "cell_type": "markdown",
   "metadata": {},
   "source": []
  },
  {
   "cell_type": "markdown",
   "metadata": {},
   "source": [
    "Sure, here are some activities based on the basic data types in Python:\n",
    "\n",
    "1. **Integer and Float Activity**: Write a Python program that declares an integer and a float variable, then prints out their sum, difference, product, and quotient.\n",
    "\n"
   ]
  },
  {
   "cell_type": "code",
   "execution_count": null,
   "metadata": {},
   "outputs": [],
   "source": [
    "# Declare an integer\n",
    "x = 10\n",
    "\n",
    "# Declare a float\n",
    "y = 20.5\n",
    "\n",
    "# Perform operations and print results\n",
    "print(\"Sum:\", x + y)\n",
    "print(\"Difference:\", x - y)\n",
    "print(\"Product:\", x * y)\n",
    "print(\"Quotient:\", x / y)"
   ]
  },
  {
   "cell_type": "markdown",
   "metadata": {},
   "source": [
    "\n",
    "\n",
    "2. **String Activity**: Write a Python program that declares a string variable and prints it in reverse.\n",
    "\n"
   ]
  },
  {
   "cell_type": "code",
   "execution_count": null,
   "metadata": {},
   "outputs": [],
   "source": [
    "# Declare a string\n",
    "s = \"Hello, World!\"\n",
    "\n",
    "# Print the string in reverse\n",
    "print(s[::-1])"
   ]
  },
  {
   "cell_type": "markdown",
   "metadata": {},
   "source": [
    "\n",
    "\n",
    "3. **List and Tuple Activity**: Write a Python program that declares a list and a tuple, then prints out their length and the first and last elements.\n",
    "\n"
   ]
  },
  {
   "cell_type": "code",
   "execution_count": null,
   "metadata": {},
   "outputs": [],
   "source": [
    "# Declare a list\n",
    "l = [1, 2, 3, 4, 5]\n",
    "\n",
    "# Declare a tuple\n",
    "t = (1, 2, 3, 4, 5)\n",
    "\n",
    "# Print length and first and last elements\n",
    "print(\"List length:\", len(l), \"First element:\", l[0], \"Last element:\", l[-1])\n",
    "print(\"Tuple length:\", len(t), \"First element:\", t[0], \"Last element:\", t[-1])"
   ]
  },
  {
   "cell_type": "markdown",
   "metadata": {},
   "source": [
    "\n",
    "\n",
    "4. **Dictionary Activity**: Write a Python program that declares a dictionary and prints out all its keys and values.\n",
    "\n"
   ]
  },
  {
   "cell_type": "code",
   "execution_count": null,
   "metadata": {},
   "outputs": [],
   "source": [
    "# Declare a dictionary\n",
    "d = {\"name\": \"John\", \"age\": 30}\n",
    "\n",
    "# Print keys and values\n",
    "for key, value in d.items():\n",
    "    print(\"Key:\", key, \"Value:\", value)"
   ]
  },
  {
   "cell_type": "markdown",
   "metadata": {},
   "source": [
    "\n",
    "\n",
    "5. **Set Activity**: Write a Python program that declares a set and prints out whether it contains a certain value.\n",
    "\n"
   ]
  },
  {
   "cell_type": "code",
   "execution_count": null,
   "metadata": {},
   "outputs": [],
   "source": [
    "# Declare a set\n",
    "s = {1, 2, 3}\n",
    "\n",
    "# Check if the set contains the value 2\n",
    "print(2 in s)"
   ]
  },
  {
   "cell_type": "markdown",
   "metadata": {},
   "source": [
    "\n",
    "\n",
    "6. **Boolean Activity**: Write a Python program that declares a boolean and prints out its negation.\n",
    "\n"
   ]
  },
  {
   "cell_type": "code",
   "execution_count": null,
   "metadata": {},
   "outputs": [],
   "source": [
    "# Declare a boolean\n",
    "b = True\n",
    "\n",
    "# Print its negation\n",
    "print(not b)"
   ]
  },
  {
   "cell_type": "markdown",
   "metadata": {},
   "source": [
    "\n",
    "\n",
    "These activities should help you practice using the basic data types in Python."
   ]
  }
 ],
 "metadata": {
  "kernelspec": {
   "display_name": "Python 3",
   "language": "python",
   "name": "python3"
  },
  "language_info": {
   "codemirror_mode": {
    "name": "ipython",
    "version": 3
   },
   "file_extension": ".py",
   "mimetype": "text/x-python",
   "name": "python",
   "nbconvert_exporter": "python",
   "pygments_lexer": "ipython3",
   "version": "3.6.8"
  }
 },
 "nbformat": 4,
 "nbformat_minor": 2
}
