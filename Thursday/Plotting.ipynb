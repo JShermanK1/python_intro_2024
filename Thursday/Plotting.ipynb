{
 "cells": [
  {
   "cell_type": "markdown",
   "metadata": {},
   "source": [
    "# Learning python - Day 4\n",
    "\n",
    "## Outline:\n",
    "\n",
    "- Plotting\n",
    "    - Matplotlib\n",
    "- Activity\n"
   ]
  }
 ],
 "metadata": {
  "language_info": {
   "name": "python"
  }
 },
 "nbformat": 4,
 "nbformat_minor": 2
}
