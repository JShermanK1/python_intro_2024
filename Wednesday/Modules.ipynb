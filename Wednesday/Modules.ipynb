{
 "cells": [
  {
   "cell_type": "markdown",
   "metadata": {},
   "source": [
    "# Learning python - Day 3\n",
    "\n",
    "## Outline:\n",
    "\n",
    "- Errors and how to read stuff\n",
    "- Concept of Modules\n",
    "- Numpy/pandas\n",
    "    - Really basic/high level coverage\n"
   ]
  }
 ],
 "metadata": {
  "language_info": {
   "name": "python"
  }
 },
 "nbformat": 4,
 "nbformat_minor": 2
}
